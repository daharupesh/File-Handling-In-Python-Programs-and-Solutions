{
 "cells": [
  {
   "cell_type": "code",
   "execution_count": 1,
   "metadata": {},
   "outputs": [
    {
     "name": "stdout",
     "output_type": "stream",
     "text": [
      "Hello\n"
     ]
    }
   ],
   "source": [
    "print('Hello')"
   ]
  },
  {
   "cell_type": "code",
   "execution_count": 2,
   "metadata": {},
   "outputs": [
    {
     "name": "stdout",
     "output_type": "stream",
     "text": [
      "Hello , My name is Rupesh Daha\n",
      "I am from nepal\n",
      "I am staying at Ahmedabad Right now.\n",
      "I want to go the abroad.\n",
      "\n",
      " I am Computer Engineer\n",
      " I am Computer Engineer\n",
      " I am Computer EngineerI am Computer Engineer\n",
      "I am Computer Engineer\n",
      " I am Computer Engineer\n",
      "I am Computer Engineer\n",
      "I am Computer Engineer\n",
      "I am Computer Engineer\n",
      "<class 'str'>\n"
     ]
    }
   ],
   "source": [
    "# 1. Write a Python Program to read an entire text file.\n",
    "with open('demo.txt','r') as f:\n",
    "    data = f.read()\n",
    "    print(data)\n",
    "    print(type(data))"
   ]
  },
  {
   "cell_type": "code",
   "execution_count": 3,
   "metadata": {},
   "outputs": [
    {
     "name": "stdout",
     "output_type": "stream",
     "text": [
      "Hello , My name is Rupesh Daha\n",
      "I am from nepal\n",
      "I am staying at Ahmedabad Right now.\n",
      "I want to go the abroad.\n"
     ]
    }
   ],
   "source": [
    "# 2 Write a Python program to read first n lines of a file.\n",
    "def read_lines(n):\n",
    "    with open('demo.txt' ,'r') as f:\n",
    "        while n>0:\n",
    "            data = f.readline()\n",
    "            print(data,end='')\n",
    "            n-=1\n",
    "\n",
    "\n",
    "n = int(input('Enter the input: '))\n",
    "read_lines(n)"
   ]
  },
  {
   "cell_type": "code",
   "execution_count": 4,
   "metadata": {},
   "outputs": [],
   "source": [
    "# 3 Write a Python program to append text to a file and display the text.\n"
   ]
  },
  {
   "cell_type": "code",
   "execution_count": 5,
   "metadata": {},
   "outputs": [
    {
     "name": "stdout",
     "output_type": "stream",
     "text": [
      "Hello , My name is Rupesh Daha\n",
      "I am from nepal\n",
      "I am staying at Ahmedabad Right now.\n",
      "I want to go the abroad.\n",
      "\n",
      " I am Computer Engineer\n",
      " I am Computer Engineer\n",
      " I am Computer EngineerI am Computer Engineer\n",
      "I am Computer Engineer\n",
      " I am Computer Engineer\n",
      "I am Computer Engineer\n",
      "I am Computer Engineer\n",
      "I am Computer Engineer\n",
      "I am Computer Engineer\n"
     ]
    }
   ],
   "source": [
    "with open('demo.txt' , 'a') as f:\n",
    "    f.write(\"\\nI am Computer Engineer\")\n",
    "    \n",
    "with open('demo.txt','r') as f:\n",
    "    data = f.read()\n",
    "    print(data)"
   ]
  },
  {
   "cell_type": "code",
   "execution_count": 6,
   "metadata": {},
   "outputs": [
    {
     "name": "stdout",
     "output_type": "stream",
     "text": [
      "['I am Computer Engineer\\n', 'I am Computer Engineer']\n"
     ]
    }
   ],
   "source": [
    "# 4. Write a Python program to read last n lines of a file.\n",
    "def read_last_n_lines(file_path, n):\n",
    "    with open(file_path, 'r') as file:\n",
    "        lines = file.readlines()[-n:]\n",
    "    return lines\n",
    "\n",
    "print(read_last_n_lines('demo.txt', 2))"
   ]
  },
  {
   "cell_type": "code",
   "execution_count": 15,
   "metadata": {},
   "outputs": [
    {
     "data": {
      "text/plain": [
       "['Hello , My name is Rupesh Daha\\n',\n",
       " 'I am from nepal\\n',\n",
       " 'I am staying at Ahmedabad Right now.\\n',\n",
       " 'I want to go the abroad.\\n',\n",
       " ' I am Computer Engineer\\n',\n",
       " ' I am Computer Engineer\\n',\n",
       " ' I am Computer EngineerI am Computer Engineer\\n',\n",
       " 'I am Computer Engineer\\n',\n",
       " ' I am Computer Engineer\\n',\n",
       " 'I am Computer Engineer\\n',\n",
       " 'I am Computer Engineer\\n',\n",
       " 'I am Computer Engineer\\n',\n",
       " 'I am Computer Engineer']"
      ]
     },
     "execution_count": 15,
     "metadata": {},
     "output_type": "execute_result"
    }
   ],
   "source": [
    "# 5 Write a Python program to read a file line by line and store it into a list.\n",
    "def read_file_lineBy_line(file):\n",
    "    lst = []\n",
    "    line = True\n",
    "    with open(file) as f:\n",
    "        while line:\n",
    "            line = f.readline()\n",
    "            if line:\n",
    "              lst.append(line)   \n",
    "\n",
    "    return lst\n",
    "\n",
    "read_file_lineBy_line('demo.txt')    \n"
   ]
  },
  {
   "cell_type": "code",
   "execution_count": 20,
   "metadata": {},
   "outputs": [
    {
     "data": {
      "text/plain": [
       "'Hello , My name is Rupesh Daha\\n\\nI am from nepal\\n\\nI am staying at Ahmedabad Right now.\\n\\nI want to go the abroad.\\n\\n I am Computer Engineer\\n\\n I am Computer Engineer\\n\\n I am Computer EngineerI am Computer Engineer\\n\\nI am Computer Engineer\\n\\n I am Computer Engineer\\n\\nI am Computer Engineer\\n\\nI am Computer Engineer\\n\\nI am Computer Engineer\\n\\nI am Computer Engineer\\n'"
      ]
     },
     "execution_count": 20,
     "metadata": {},
     "output_type": "execute_result"
    }
   ],
   "source": [
    "# 6  Write a Python program to read a file line by line store it into a variable.\n",
    "def readStoreVariable(file):\n",
    "    var = ''\n",
    "    single_line = True\n",
    "    with open(file) as f:\n",
    "        while single_line:\n",
    "          single_line = f.readline()\n",
    "          if single_line:\n",
    "             var +=single_line\n",
    "\n",
    "    return var\n",
    "\n",
    "readStoreVariable('demo.txt')         \n",
    "             \n"
   ]
  },
  {
   "cell_type": "code",
   "execution_count": 24,
   "metadata": {},
   "outputs": [
    {
     "data": {
      "text/plain": [
       "['Hello , My name is Rupesh Daha\\n',\n",
       " 'I am from nepal\\n',\n",
       " 'I am staying at Ahmedabad Right now.\\n',\n",
       " 'I want to go the abroad.\\n',\n",
       " ' I am Computer Engineer\\n',\n",
       " ' I am Computer Engineer\\n',\n",
       " ' I am Computer EngineerI am Computer Engineer\\n',\n",
       " 'I am Computer Engineer\\n',\n",
       " ' I am Computer Engineer\\n',\n",
       " 'I am Computer Engineer\\n',\n",
       " 'I am Computer Engineer\\n',\n",
       " 'I am Computer Engineer\\n',\n",
       " 'I am Computer Engineer']"
      ]
     },
     "execution_count": 24,
     "metadata": {},
     "output_type": "execute_result"
    }
   ],
   "source": [
    "# 7  Write a Python program to read a file line by line store it into a variable.\n",
    "def fileLineByLine(file):\n",
    "    arr =[]\n",
    "    with open(file,'r') as f:\n",
    "        for i in f:\n",
    "            arr.append(i)\n",
    "\n",
    "    return arr       \n",
    "fileLineByLine('demo.txt')           \n"
   ]
  },
  {
   "cell_type": "code",
   "execution_count": 27,
   "metadata": {},
   "outputs": [],
   "source": [
    "# 8 Write a python program to find the longest words.\n",
    "def find_longest_word(file):\n",
    "    dict_={\n",
    "\n",
    "    }\n",
    "    value = 0\n",
    "    with open(file) as f:\n",
    "        data = f.read()\n",
    "\n",
    "        list_data = data.split()\n",
    "        for i in list_data:\n",
    "            if len(i) > value:\n",
    "               value = len(i)\n",
    "               dict_[value] = i\n",
    "    return dict_[value]            \n",
    "            \n",
    "        "
   ]
  },
  {
   "cell_type": "code",
   "execution_count": 28,
   "metadata": {},
   "outputs": [
    {
     "data": {
      "text/plain": [
       "'Rupesh'"
      ]
     },
     "execution_count": 28,
     "metadata": {},
     "output_type": "execute_result"
    }
   ],
   "source": [
    "find_longest_word('practice.txt')"
   ]
  },
  {
   "cell_type": "code",
   "execution_count": 32,
   "metadata": {},
   "outputs": [
    {
     "name": "stdout",
     "output_type": "stream",
     "text": [
      "<_io.TextIOWrapper name='practice.txt' mode='r' encoding='cp1252'>\n"
     ]
    },
    {
     "data": {
      "text/plain": [
       "2"
      ]
     },
     "execution_count": 32,
     "metadata": {},
     "output_type": "execute_result"
    }
   ],
   "source": [
    "# 9. Write a Python program to count the number of lines in a text file.\n",
    "def countLine(file):\n",
    "    count = 0 \n",
    "    with open(file) as f:\n",
    "        print(f)\n",
    "        for i in f:\n",
    "            count+=1\n",
    "    return count\n",
    "\n",
    "countLine('practice.txt')        "
   ]
  },
  {
   "cell_type": "code",
   "execution_count": 36,
   "metadata": {},
   "outputs": [
    {
     "data": {
      "text/plain": [
       "Counter({'Hello': 1,\n",
       "         'My': 1,\n",
       "         'name': 1,\n",
       "         'is': 1,\n",
       "         'Rupesh': 3,\n",
       "         'Kumar': 3,\n",
       "         'Daha': 3,\n",
       "         'and': 1,\n",
       "         'Again': 1})"
      ]
     },
     "execution_count": 36,
     "metadata": {},
     "output_type": "execute_result"
    }
   ],
   "source": [
    "#10 Write a Python program to count the frequency of words in a file.\n",
    "from collections import Counter\n",
    "def countWordFrequency(file):\n",
    "    with open(file) as f:\n",
    "        words = f.read().split()\n",
    "\n",
    "    return Counter(words)           # Counter Function is very important it return the dictionary by counting the how many times items project in list..\n",
    "\n",
    "\n",
    "countWordFrequency('practice.txt')"
   ]
  },
  {
   "cell_type": "code",
   "execution_count": 38,
   "metadata": {},
   "outputs": [
    {
     "data": {
      "text/plain": [
       "{'Hello': 1,\n",
       " 'My': 1,\n",
       " 'name': 1,\n",
       " 'is': 1,\n",
       " 'Rupesh': 4,\n",
       " 'Kumar': 3,\n",
       " 'Daha': 3,\n",
       " 'and': 1,\n",
       " 'Again': 1,\n",
       " 'I': 1,\n",
       " 'am': 4,\n",
       " 'very': 1,\n",
       " 'much': 1,\n",
       " 'excited': 1,\n",
       " 'go': 1,\n",
       " 'to': 1}"
      ]
     },
     "execution_count": 38,
     "metadata": {},
     "output_type": "execute_result"
    }
   ],
   "source": [
    "from collections import Counter\n",
    "def countWordFrequency(file):\n",
    "    with open(file) as f:\n",
    "        words = f.read().split()\n",
    "    dict_={\n",
    "\n",
    "    }\n",
    "    count = 0\n",
    "    for item in words:\n",
    "        if item not in dict_.keys():\n",
    "            for j in words:\n",
    "                if item == j:\n",
    "                    count+=1\n",
    "            dict_[item] = count \n",
    "            count = 0       \n",
    "    return dict_        \n",
    "\n",
    "\n",
    "countWordFrequency('practice.txt')"
   ]
  },
  {
   "cell_type": "code",
   "execution_count": 45,
   "metadata": {},
   "outputs": [
    {
     "name": "stdout",
     "output_type": "stream",
     "text": [
      "94130609 bytes\n"
     ]
    }
   ],
   "source": [
    "# 11 Write a Python Program to get the file size of a plain file.\n",
    "import os\n",
    "def get_file_size(file_path):\n",
    "    return os.path.getsize(file_path)\n",
    "\n",
    "print(get_file_size('D:\\VID_20240711_135702.mp4') ,'bytes')"
   ]
  },
  {
   "cell_type": "code",
   "execution_count": 49,
   "metadata": {},
   "outputs": [],
   "source": [
    "# 12 Write a Python program to write a list to a file.\n",
    "def write_list_file(lst):\n",
    "    with open('demo2.txt','w') as f:\n",
    "        for data in lst:\n",
    "          f.write(data)\n",
    "\n",
    "lst = ['My Name is Rupesh','\\nKumar','\\nDaha']\n",
    "write_list_file(lst)\n"
   ]
  },
  {
   "cell_type": "code",
   "execution_count": 50,
   "metadata": {},
   "outputs": [],
   "source": [
    "# 13. Write a Python program to copy the contents of a file to another file .\n",
    "def copy_file(source , destination):\n",
    "    with open(source,'r') as f:\n",
    "        source_data = f.read()\n",
    "\n",
    "    with open(destination,'w') as f:\n",
    "        f.write(source_data)\n",
    "\n",
    "copy_file('demo2.txt' ,'practice1.txt')        "
   ]
  },
  {
   "cell_type": "code",
   "execution_count": 51,
   "metadata": {},
   "outputs": [
    {
     "data": {
      "text/plain": [
       "'demo1.txt'"
      ]
     },
     "execution_count": 51,
     "metadata": {},
     "output_type": "execute_result"
    }
   ],
   "source": [
    "# direct method\n",
    "from shutil import copyfile\n",
    "copyfile('practice1.txt','demo1.txt')\n"
   ]
  },
  {
   "cell_type": "code",
   "execution_count": 54,
   "metadata": {},
   "outputs": [],
   "source": [
    "#14. Write a Python program to combine each line from first file with the corresponding line in second file.\n",
    "def combine_files(file1, file2, output_file):\n",
    "    with open(file1, 'r') as f1, open(file2, 'r') as f2, open(output_file, 'w') as output:\n",
    "        for line1, line2 in zip(f1, f2):\n",
    "            output.write(line1.strip() + ' ' + line2)\n",
    "\n",
    "combine_files('demo.txt', 'demo1.txt', 'output.txt')\n"
   ]
  },
  {
   "cell_type": "code",
   "execution_count": 62,
   "metadata": {},
   "outputs": [
    {
     "name": "stdout",
     "output_type": "stream",
     "text": [
      "Daha\n"
     ]
    }
   ],
   "source": [
    "# 15. Write a Python program to read a random line from a file.\n",
    "import random\n",
    "\n",
    "def read_random_line(file_path):\n",
    "    with open(file_path, 'r') as file:\n",
    "        lines = file.readlines()  # return the list of all the lines\n",
    "\n",
    "    return random.choice(lines)\n",
    "\n",
    "print(read_random_line('practice1.txt'))\n"
   ]
  },
  {
   "cell_type": "code",
   "execution_count": 68,
   "metadata": {},
   "outputs": [
    {
     "name": "stdout",
     "output_type": "stream",
     "text": [
      "False\n"
     ]
    }
   ],
   "source": [
    "# 16. Write a Python program to assess if a file is closed or not.\n",
    "def is_file_closed(file_path):\n",
    "    file = open(file_path, 'r')\n",
    "    status = file.closed\n",
    "    file.close()\n",
    "    # status = file.closed - return true if de comment\n",
    "    return status\n",
    "\n",
    "print(is_file_closed('demo.txt'))\n"
   ]
  },
  {
   "cell_type": "code",
   "execution_count": 70,
   "metadata": {},
   "outputs": [],
   "source": [
    "# 17. Write a Python program to remove newline characters from a file.\n",
    "def remove_newlines(file_path):\n",
    "    with open(file_path, 'r') as file:\n",
    "        content = file.read().replace('\\n', '')\n",
    "    with open(file_path, 'w') as file:\n",
    "        file.write(content)\n",
    "\n",
    "remove_newlines('demo.txt')"
   ]
  },
  {
   "cell_type": "code",
   "execution_count": 71,
   "metadata": {},
   "outputs": [
    {
     "name": "stdout",
     "output_type": "stream",
     "text": [
      "54\n"
     ]
    }
   ],
   "source": [
    "# 18. Write a Python program that takes a text file as input and returns the number of words of a given text file.\n",
    "def count_words(file_path):\n",
    "    with open(file_path, 'r') as file:\n",
    "        text = file.read()\n",
    "    words = text.replace(',', ' ').split()\n",
    "    return len(words)\n",
    "\n",
    "print(count_words('demo.txt'))\n",
    "\n"
   ]
  },
  {
   "cell_type": "code",
   "execution_count": 73,
   "metadata": {},
   "outputs": [
    {
     "name": "stdout",
     "output_type": "stream",
     "text": [
      "['H', 'e', 'l', 'l', 'o', '\\n', 'M', 'y', ' ', 'n', 'a', 'm', 'e', ' ', 'i', 's', ' ', 'R', 'u', 'p', 'e', 's', 'h', ' ', 'K', 'u', 'm', 'a', 'r', ' ', 'D', 'a', 'h', 'a', ' ', 'R', 'u', 'p', 'e', 's', 'h', ' ', 'K', 'u', 'm', 'a', 'r', ' ', 'D', 'a', 'h', 'a', ' ', 'a', 'n', 'd', ' ', 'A', 'g', 'a', 'i', 'n', ' ', 'R', 'u', 'p', 'e', 's', 'h', ' ', 'K', 'u', 'm', 'a', 'r', ' ', 'D', 'a', 'h', 'a', '\\n', 'I', ' ', 'a', 'm', ' ', 'v', 'e', 'r', 'y', ' ', 'm', 'u', 'c', 'h', ' ', 'e', 'x', 'c', 'i', 't', 'e', 'd', ' ', 'a', 'm', ' ', 'a', 'm', ' ', 'a', 'm', ' ', 'g', 'o', ' ', 't', 'o', ' ', 'R', 'u', 'p', 'e', 's', 'h', 'M', 'y', ' ', 'N', 'a', 'm', 'e', ' ', 'i', 's', ' ', 'R', 'u', 'p', 'e', 's', 'h', '\\n', 'K', 'u', 'm', 'a', 'r', '\\n', 'D', 'a', 'h', 'a']\n"
     ]
    }
   ],
   "source": [
    "# 19. Write a Python program to extract characters from various text files and puts them into a list.\n",
    "def extract_characters(files):\n",
    "   characters = []\n",
    "   for file_path in files:\n",
    "      with open(file_path) as f:\n",
    "         characters.extend(list(f.read()))\n",
    "   return characters\n",
    "print(extract_characters(['practice.txt', 'practice1.txt']))\n"
   ]
  },
  {
   "cell_type": "code",
   "execution_count": 81,
   "metadata": {},
   "outputs": [
    {
     "name": "stdout",
     "output_type": "stream",
     "text": [
      "a, b, c, d, e, f, g, h, i, j, k, l, m, n, o, p, q, r, s, t, u, v, w, x, y, z, "
     ]
    }
   ],
   "source": [
    "for i in range(26):\n",
    "    print(chr(ord('a')+i), end=', ')"
   ]
  },
  {
   "cell_type": "code",
   "execution_count": 87,
   "metadata": {},
   "outputs": [],
   "source": [
    "# 20. Write a Python program to generate 26 text files named A.txt, B.txt, and so on up to Z.txt.\n",
    "import os\n",
    "def generate_textfile(directory_path , number):\n",
    "    first = 'A'\n",
    "    if not os.path.exists(directory_path):\n",
    "        os.makedirs(directory_path)\n",
    "\n",
    "    for i in range(number):\n",
    "        # create a filename from 'A' to the appropriate letter.\n",
    "        filename = chr(ord(first)+i) + \".txt\"\n",
    "        file_path = os.path.join(directory_path , filename)\n",
    "        with open(file_path , 'w') as f:\n",
    "            f.write(\"Hello My name is rupesh kumar Daha And I am very happy to introduce myself. \")\n",
    "\n",
    "generate_textfile('F:/File Handling Python/NewFolder', 26)\n",
    "    "
   ]
  },
  {
   "cell_type": "code",
   "execution_count": 88,
   "metadata": {},
   "outputs": [],
   "source": [
    "# 21. Write a Python program to create a file where all letters of English alphabet are listed by specified number of letters on each line.\n",
    "def letterToNumber(file):\n",
    "    numerical_= \"\"\n",
    "    with open(file,'r') as f:\n",
    "        data = f.read()\n",
    "    for i in data:\n",
    "        if i in [' ','\\n','_','%','^']:\n",
    "            numerical_+=i\n",
    "        else:\n",
    "            numerical_+= str(ord(i))\n",
    "    with open(file,'w') as f:\n",
    "        f.write(numerical_)        \n",
    "\n"
   ]
  },
  {
   "cell_type": "code",
   "execution_count": 89,
   "metadata": {},
   "outputs": [],
   "source": [
    "letterToNumber('demo1.txt')"
   ]
  },
  {
   "cell_type": "code",
   "execution_count": null,
   "metadata": {},
   "outputs": [],
   "source": []
  }
 ],
 "metadata": {
  "kernelspec": {
   "display_name": "Python 3",
   "language": "python",
   "name": "python3"
  },
  "language_info": {
   "codemirror_mode": {
    "name": "ipython",
    "version": 3
   },
   "file_extension": ".py",
   "mimetype": "text/x-python",
   "name": "python",
   "nbconvert_exporter": "python",
   "pygments_lexer": "ipython3",
   "version": "3.11.0"
  }
 },
 "nbformat": 4,
 "nbformat_minor": 2
}
